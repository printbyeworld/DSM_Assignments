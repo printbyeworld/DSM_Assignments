{
 "cells": [
  {
   "cell_type": "code",
   "execution_count": 9,
   "id": "83682ca4",
   "metadata": {},
   "outputs": [],
   "source": [
    "#Q1. \n",
    "#Comments may be written in python by uisng the '#' sign before every comment line\n",
    "# There are 3 types of comments in python- \n",
    "#1. single line comments\n",
    "#2. multi line comments -triple quotes we can use,the code will be shown in output but wont run\n",
    "#3. doc string comments -doc string comments help understand the differet variables within a particular python function\n"
   ]
  },
  {
   "cell_type": "code",
   "execution_count": 11,
   "id": "ee578dc7",
   "metadata": {},
   "outputs": [
    {
     "data": {
      "text/plain": [
       "1"
      ]
     },
     "execution_count": 11,
     "metadata": {},
     "output_type": "execute_result"
    }
   ],
   "source": [
    "#Q2.\n",
    "#Variables are packets of data, variables may be assigned a value by creating & defining the variable\n",
    "# eg.var_1 = 1, here, the variable var_1 is assigned a value of 1 and the data is stored under var_1,\n",
    "# The data may then be recalled by declaring the variable, example as follows\n",
    "var_1 = 1\n",
    "var_1"
   ]
  },
  {
   "cell_type": "code",
   "execution_count": 18,
   "id": "8f031671",
   "metadata": {},
   "outputs": [
    {
     "name": "stdout",
     "output_type": "stream",
     "text": [
      "['m', 'y', 's', 't', 'r', 'i', 'n', 'g']\n",
      "('m', 'y', 's', 't', 'r', 'i', 'n', 'g')\n"
     ]
    }
   ],
   "source": [
    "#Q3\n",
    "#We may change the data type by using inbuilt python function as follows\n",
    "my_str1 = 'mystring'\n",
    "list_1 = list(my_str1)\n",
    "print(list_1)\n",
    "#Here we converted the string into a list, note that in string every letter is stored separately under the variable,\n",
    "#so when its converted to list, every letter is shown separately\n",
    "#similarly, we can covert the list to tuples\n",
    "tup_1 = tuple(list_1)\n",
    "print(tup_1)"
   ]
  },
  {
   "cell_type": "code",
   "execution_count": 19,
   "id": "9e7cc656",
   "metadata": {},
   "outputs": [],
   "source": [
    "#Q4. \n",
    "#To run and execute a python script in the command line, you first need to install the python 3.11 version, \n",
    "# go to command promt and use the the script as usual, drawback being the code cant be saved.\n",
    "# to save the files, you may need to install a text editor such as sublime text or the jupyter notebook where the code\n",
    "# can now be saved under the \".py\" file extension"
   ]
  },
  {
   "cell_type": "code",
   "execution_count": 20,
   "id": "f8d8ac7c",
   "metadata": {},
   "outputs": [
    {
     "data": {
      "text/plain": [
       "[2, 3]"
      ]
     },
     "execution_count": 20,
     "metadata": {},
     "output_type": "execute_result"
    }
   ],
   "source": [
    "#Q5\n",
    "#Given a list my_list = [1, 2, 3, 4, 5], write the code to slice the list and obtain the sub-list [2, 3].\n",
    "my_list = [1,2,3,4,5]\n",
    "my_sublist1 = my_list[1:3]\n",
    "my_sublist1"
   ]
  },
  {
   "cell_type": "code",
   "execution_count": 21,
   "id": "fb6e8673",
   "metadata": {},
   "outputs": [],
   "source": [
    "#Q6. \n",
    "#What is a complex number in mathematics, and how is it represented in Python?\n",
    "#Complex numbers are a combination of a real and an imaginary number ,the imaginary could be eg. root of -1 or iota\n",
    "#The imaginary part may be denoted by 'j', general format for complex number may be a + bj\n"
   ]
  },
  {
   "cell_type": "code",
   "execution_count": 22,
   "id": "8012fe5e",
   "metadata": {},
   "outputs": [
    {
     "data": {
      "text/plain": [
       "25"
      ]
     },
     "execution_count": 22,
     "metadata": {},
     "output_type": "execute_result"
    }
   ],
   "source": [
    "#Q7.\n",
    "age = 25\n",
    "age"
   ]
  },
  {
   "cell_type": "code",
   "execution_count": 23,
   "id": "3aa3286a",
   "metadata": {},
   "outputs": [
    {
     "data": {
      "text/plain": [
       "float"
      ]
     },
     "execution_count": 23,
     "metadata": {},
     "output_type": "execute_result"
    }
   ],
   "source": [
    "#Q8.\n",
    "price = 9.99\n",
    "type(price)"
   ]
  },
  {
   "cell_type": "code",
   "execution_count": 24,
   "id": "558aa6c8",
   "metadata": {},
   "outputs": [
    {
     "name": "stdout",
     "output_type": "stream",
     "text": [
      "Devang Parab\n"
     ]
    }
   ],
   "source": [
    "#Q9.\n",
    "name = 'Devang Parab'\n",
    "print(name)"
   ]
  },
  {
   "cell_type": "code",
   "execution_count": 28,
   "id": "00350946",
   "metadata": {},
   "outputs": [
    {
     "data": {
      "text/plain": [
       "'World'"
      ]
     },
     "execution_count": 28,
     "metadata": {},
     "output_type": "execute_result"
    }
   ],
   "source": [
    "#Q10\n",
    "my_string1 = 'Hello, World!'\n",
    "my_string1[7:12]"
   ]
  },
  {
   "cell_type": "code",
   "execution_count": 29,
   "id": "4d337be9",
   "metadata": {},
   "outputs": [
    {
     "data": {
      "text/plain": [
       "True"
      ]
     },
     "execution_count": 29,
     "metadata": {},
     "output_type": "execute_result"
    }
   ],
   "source": [
    "#Q11\n",
    "is_student = True\n",
    "is_student"
   ]
  },
  {
   "cell_type": "code",
   "execution_count": null,
   "id": "9a8ffa4c",
   "metadata": {},
   "outputs": [],
   "source": []
  }
 ],
 "metadata": {
  "kernelspec": {
   "display_name": "Python 3 (ipykernel)",
   "language": "python",
   "name": "python3"
  },
  "language_info": {
   "codemirror_mode": {
    "name": "ipython",
    "version": 3
   },
   "file_extension": ".py",
   "mimetype": "text/x-python",
   "name": "python",
   "nbconvert_exporter": "python",
   "pygments_lexer": "ipython3",
   "version": "3.9.13"
  }
 },
 "nbformat": 4,
 "nbformat_minor": 5
}
