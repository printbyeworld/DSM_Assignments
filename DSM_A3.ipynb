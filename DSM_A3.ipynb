{
 "cells": [
  {
   "cell_type": "code",
   "execution_count": 1,
   "id": "ab4beed3",
   "metadata": {},
   "outputs": [],
   "source": [
    "#Q1.\n",
    "# key word 'def' is used to create a function\n",
    "l = list(range(1,26))\n",
    "def odd_no(l):\n",
    "    l1 = []\n",
    "    for i in l:\n",
    "        if i % 2 == 0:\n",
    "            continue\n",
    "        else:\n",
    "            l1.append(i)\n",
    "    return l1            "
   ]
  },
  {
   "cell_type": "code",
   "execution_count": 2,
   "id": "24eb8f62",
   "metadata": {},
   "outputs": [
    {
     "data": {
      "text/plain": [
       "[1, 3, 5, 7, 9, 11, 13, 15, 17, 19, 21, 23, 25]"
      ]
     },
     "execution_count": 2,
     "metadata": {},
     "output_type": "execute_result"
    }
   ],
   "source": [
    "odd_no(l)"
   ]
  },
  {
   "cell_type": "code",
   "execution_count": 3,
   "id": "dda528c3",
   "metadata": {},
   "outputs": [],
   "source": [
    "#Q2.\n",
    "# *args and **kwargs allows multiple arguments/inputs, they are used when the number of inputs are uncertain\n",
    "#eg *args\n",
    "def add(*num):\n",
    "    a = 0\n",
    "    for i in num:\n",
    "        a = a + i\n",
    "    return a"
   ]
  },
  {
   "cell_type": "code",
   "execution_count": 4,
   "id": "021b339f",
   "metadata": {},
   "outputs": [
    {
     "data": {
      "text/plain": [
       "26"
      ]
     },
     "execution_count": 4,
     "metadata": {},
     "output_type": "execute_result"
    }
   ],
   "source": [
    "add(2,3,3,6,7,2,3)"
   ]
  },
  {
   "cell_type": "code",
   "execution_count": 5,
   "id": "ed6a6536",
   "metadata": {},
   "outputs": [],
   "source": [
    "#Q2.\n",
    "# **kwargs is used for key-value pairs, multiple key value pairs may be input by using **kwargs\n",
    "#eg\n",
    "def total_fruits(**fruits):\n",
    "    total = 0\n",
    "    for i in fruits.values():\n",
    "        total = total + i\n",
    "    return total"
   ]
  },
  {
   "cell_type": "code",
   "execution_count": 6,
   "id": "c668a693",
   "metadata": {},
   "outputs": [
    {
     "data": {
      "text/plain": [
       "16"
      ]
     },
     "execution_count": 6,
     "metadata": {},
     "output_type": "execute_result"
    }
   ],
   "source": [
    "total_fruits(banana = 5, mango = 3, apple = 8)"
   ]
  },
  {
   "cell_type": "code",
   "execution_count": 7,
   "id": "ae7bfbdf",
   "metadata": {},
   "outputs": [
    {
     "name": "stdout",
     "output_type": "stream",
     "text": [
      "apple\n",
      "banana\n",
      "cherry\n"
     ]
    }
   ],
   "source": [
    "#Q3.\n",
    "# An iterator is an object that allows you to iterate over iterable data like list, tuples, dictionaries, sets\n",
    "# The object implements the iterator protocol, which consist of the methods __iter__() and __next__()\n",
    "#To create an object/class as an iterator you have to implement the methods __iter__() and __next__() to your object.\n",
    "#Eg\n",
    "mytuple = (\"apple\", \"banana\", \"cherry\")\n",
    "myit = iter(mytuple)\n",
    "\n",
    "print(next(myit))\n",
    "print(next(myit))\n",
    "print(next(myit))\n"
   ]
  },
  {
   "cell_type": "code",
   "execution_count": 8,
   "id": "6ca53a39",
   "metadata": {},
   "outputs": [
    {
     "name": "stdout",
     "output_type": "stream",
     "text": [
      "2\n",
      "4\n",
      "6\n",
      "8\n",
      "10\n"
     ]
    }
   ],
   "source": [
    "#Q3.\n",
    "l = [2,4,6,8,10,12,14,16,18,20]\n",
    "a = iter(l)\n",
    "for i in list(range(5)):\n",
    "    print(next(a))"
   ]
  },
  {
   "cell_type": "code",
   "execution_count": 9,
   "id": "12a15c67",
   "metadata": {},
   "outputs": [
    {
     "name": "stdout",
     "output_type": "stream",
     "text": [
      "<generator object fib at 0x00000229BAD5AAC0>\n",
      "0\n",
      "1\n",
      "1\n",
      "2\n",
      "3\n"
     ]
    }
   ],
   "source": [
    "#Q4. \n",
    "# A generator function in python is used to declare a function that acts like an iterator without storing the values\n",
    "# The yeild keyword is used to declare a function as a generator function\n",
    "def fib(n):\n",
    "    a,b = 0,1\n",
    "    for i in range(n):\n",
    "        yield a\n",
    "        a, b = b, a+b\n",
    "print(fib(5))\n",
    "for i in fib(5):\n",
    "    print(i)"
   ]
  },
  {
   "cell_type": "code",
   "execution_count": 10,
   "id": "e324f2b4",
   "metadata": {},
   "outputs": [],
   "source": [
    "# Q5. \n",
    "def Prime_No(number):\n",
    "    number = 1\n",
    "    while True:\n",
    "        if is_prime(number):\n",
    "            yield number\n",
    "        number += 1\n",
    "\n",
    "\n",
    "def is_prime(number):\n",
    "    if number > 1:\n",
    "        if number == 2:\n",
    "            return True\n",
    "        if number % 2 == 0:\n",
    "            return False\n",
    "        for i in range(3, int(number ** 0.5)+1)  :\n",
    "                   if number % i == 0:\n",
    "                    return False\n",
    "        return True\n",
    "    return False"
   ]
  },
  {
   "cell_type": "code",
   "execution_count": 11,
   "id": "caa7c030",
   "metadata": {},
   "outputs": [
    {
     "name": "stdout",
     "output_type": "stream",
     "text": [
      "2\n",
      "3\n",
      "5\n",
      "7\n",
      "11\n",
      "13\n",
      "17\n",
      "19\n",
      "23\n",
      "29\n",
      "31\n",
      "37\n",
      "41\n",
      "43\n",
      "47\n",
      "53\n",
      "59\n",
      "61\n",
      "67\n",
      "71\n"
     ]
    }
   ],
   "source": [
    "#Q5.\n",
    "generator = Prime_No(1000)\n",
    "for i in range(20):\n",
    "    print(next(generator))"
   ]
  },
  {
   "cell_type": "code",
   "execution_count": 12,
   "id": "ef1e0ab6",
   "metadata": {},
   "outputs": [],
   "source": [
    "#Q6. \n",
    "def fib_seq(n):\n",
    "    a, b = 0,1\n",
    "    while i <= n:\n",
    "        yield a\n",
    "        a,b = b, a + b"
   ]
  },
  {
   "cell_type": "code",
   "execution_count": 13,
   "id": "9a410a10",
   "metadata": {},
   "outputs": [
    {
     "name": "stdout",
     "output_type": "stream",
     "text": [
      "0\n",
      "1\n",
      "1\n",
      "2\n",
      "3\n",
      "5\n",
      "8\n",
      "13\n",
      "21\n",
      "34\n"
     ]
    }
   ],
   "source": [
    "#Q6.\n",
    "fib = fib_seq(100)\n",
    "for i in range(10):\n",
    "    print(next(fib))"
   ]
  },
  {
   "cell_type": "code",
   "execution_count": 14,
   "id": "4261655a",
   "metadata": {},
   "outputs": [
    {
     "data": {
      "text/plain": [
       "['p', 'w', 's', 'k', 'i', 'l', 'l', 's']"
      ]
     },
     "execution_count": 14,
     "metadata": {},
     "output_type": "execute_result"
    }
   ],
   "source": [
    "#Q7.\n",
    "my_string = 'pwskills'\n",
    "a = iter(my_string)\n",
    "l = []\n",
    "for i in a:\n",
    "    l.append(i)\n",
    "l"
   ]
  },
  {
   "cell_type": "code",
   "execution_count": 15,
   "id": "94a3f7c0",
   "metadata": {},
   "outputs": [],
   "source": [
    "#Q8.\n",
    "def pal(n):\n",
    "    while n>0:    \n",
    "        a = iter(str(n))\n",
    "        l = []\n",
    "        for i in a:\n",
    "            l.append(i)\n",
    "        l1 = l[0::1]\n",
    "        l2 = l[-1::-1]\n",
    "        if l1 == l2:\n",
    "            return True\n",
    "        else: \n",
    "            return False "
   ]
  },
  {
   "cell_type": "code",
   "execution_count": 16,
   "id": "797e547b",
   "metadata": {},
   "outputs": [
    {
     "data": {
      "text/plain": [
       "[1,\n",
       " 3,\n",
       " 5,\n",
       " 7,\n",
       " 9,\n",
       " 11,\n",
       " 13,\n",
       " 15,\n",
       " 17,\n",
       " 19,\n",
       " 21,\n",
       " 23,\n",
       " 25,\n",
       " 27,\n",
       " 29,\n",
       " 31,\n",
       " 33,\n",
       " 35,\n",
       " 37,\n",
       " 39,\n",
       " 41,\n",
       " 43,\n",
       " 45,\n",
       " 47,\n",
       " 49,\n",
       " 51,\n",
       " 53,\n",
       " 55,\n",
       " 57,\n",
       " 59,\n",
       " 61,\n",
       " 63,\n",
       " 65,\n",
       " 67,\n",
       " 69,\n",
       " 71,\n",
       " 73,\n",
       " 75,\n",
       " 77,\n",
       " 79,\n",
       " 81,\n",
       " 83,\n",
       " 85,\n",
       " 87,\n",
       " 89,\n",
       " 91,\n",
       " 93,\n",
       " 95,\n",
       " 97,\n",
       " 99]"
      ]
     },
     "execution_count": 16,
     "metadata": {},
     "output_type": "execute_result"
    }
   ],
   "source": [
    "#Q9.\n",
    "my_list = [x for x in range(1,101)]\n",
    "odd_list = [x for x in my_list if x%2 ==1]\n",
    "odd_list"
   ]
  },
  {
   "cell_type": "code",
   "execution_count": null,
   "id": "f59e8891",
   "metadata": {},
   "outputs": [],
   "source": []
  },
  {
   "cell_type": "code",
   "execution_count": null,
   "id": "b23b3a53",
   "metadata": {},
   "outputs": [],
   "source": []
  }
 ],
 "metadata": {
  "kernelspec": {
   "display_name": "Python 3 (ipykernel)",
   "language": "python",
   "name": "python3"
  },
  "language_info": {
   "codemirror_mode": {
    "name": "ipython",
    "version": 3
   },
   "file_extension": ".py",
   "mimetype": "text/x-python",
   "name": "python",
   "nbconvert_exporter": "python",
   "pygments_lexer": "ipython3",
   "version": "3.9.13"
  }
 },
 "nbformat": 4,
 "nbformat_minor": 5
}
