{
 "cells": [
  {
   "cell_type": "code",
   "execution_count": 3,
   "id": "b39be2f8",
   "metadata": {},
   "outputs": [
    {
     "data": {
      "text/plain": [
       "['string', [1, 2, 3], 2.101, (1, 2, 3)]"
      ]
     },
     "execution_count": 3,
     "metadata": {},
     "output_type": "execute_result"
    }
   ],
   "source": [
    "#Q1. \n",
    "var_1 = ['string',[1,2,3], 2.101, (1,2,3)]\n",
    "var_1"
   ]
  },
  {
   "cell_type": "code",
   "execution_count": 15,
   "id": "4f16c429",
   "metadata": {},
   "outputs": [],
   "source": [
    "#Q2.\n",
    "var1 = ''\n",
    "var2 = '[DS,ML,Python]'\n",
    "var3 = ['DS','ML','Python']\n",
    "var4 = 1"
   ]
  },
  {
   "cell_type": "code",
   "execution_count": 17,
   "id": "d96823b1",
   "metadata": {},
   "outputs": [
    {
     "name": "stdout",
     "output_type": "stream",
     "text": [
      "<class 'str'>\n",
      "<class 'str'>\n",
      "<class 'list'>\n",
      "<class 'int'>\n"
     ]
    }
   ],
   "source": [
    "#Q2\n",
    "print(type(var1))\n",
    "print(type(var2))\n",
    "print(type(var3))\n",
    "print(type(var4))"
   ]
  },
  {
   "cell_type": "code",
   "execution_count": 21,
   "id": "8d9a287d",
   "metadata": {},
   "outputs": [
    {
     "name": "stdout",
     "output_type": "stream",
     "text": [
      "0.5\n",
      "1\n",
      "2\n",
      "4\n"
     ]
    }
   ],
   "source": [
    "#Q3.\n",
    "#1 (/) operator: does division\n",
    "print(1/2)\n",
    "#2 (%) operator: returns remainder as output\n",
    "print(5%2)\n",
    "#3 (//)operator: returns quotient as output\n",
    "print(5//2)\n",
    "#4 (**) operator: exponential or raised to valueprint\n",
    "print(2**2)"
   ]
  },
  {
   "cell_type": "code",
   "execution_count": 24,
   "id": "7201baf3",
   "metadata": {},
   "outputs": [
    {
     "data": {
      "text/plain": [
       "10"
      ]
     },
     "execution_count": 24,
     "metadata": {},
     "output_type": "execute_result"
    }
   ],
   "source": [
    "#Q4\n",
    "list_1 = [None,2,3,4,5,6,'str',['a',1],9.8,('a','b',0)]\n",
    "len(list_1)"
   ]
  },
  {
   "cell_type": "code",
   "execution_count": 25,
   "id": "11133795",
   "metadata": {},
   "outputs": [
    {
     "name": "stdout",
     "output_type": "stream",
     "text": [
      "<class 'NoneType'>\n",
      "<class 'int'>\n",
      "<class 'int'>\n",
      "<class 'int'>\n",
      "<class 'int'>\n",
      "<class 'int'>\n",
      "<class 'str'>\n",
      "<class 'list'>\n",
      "<class 'float'>\n",
      "<class 'tuple'>\n"
     ]
    }
   ],
   "source": [
    "#Q4.\n",
    "for item in list_1:\n",
    "    print(type(item))"
   ]
  },
  {
   "cell_type": "code",
   "execution_count": 46,
   "id": "5d29bf69",
   "metadata": {},
   "outputs": [
    {
     "name": "stdout",
     "output_type": "stream",
     "text": [
      "8\n"
     ]
    }
   ],
   "source": [
    "#Q5. \n",
    "A = 256\n",
    "B = 2\n",
    "times = []\n",
    "if A%B == 0:\n",
    "    while A%B == 0:\n",
    "        times.append(1)\n",
    "        A = A//B\n",
    "        continue\n",
    "    print(len(times))\n",
    "else:\n",
    "    print(A,'is not divisible by',B)"
   ]
  },
  {
   "cell_type": "code",
   "execution_count": 49,
   "id": "e0b1a784",
   "metadata": {},
   "outputs": [
    {
     "name": "stdout",
     "output_type": "stream",
     "text": [
      "1 is not divisible by 3\n",
      "2 is not divisible by 3\n",
      "3 is divisible by 3\n",
      "4 is not divisible by 3\n",
      "5 is not divisible by 3\n",
      "6 is divisible by 3\n",
      "7 is not divisible by 3\n",
      "8 is not divisible by 3\n",
      "9 is divisible by 3\n",
      "10 is not divisible by 3\n",
      "11 is not divisible by 3\n",
      "12 is divisible by 3\n",
      "13 is not divisible by 3\n",
      "14 is not divisible by 3\n",
      "15 is divisible by 3\n",
      "16 is not divisible by 3\n",
      "17 is not divisible by 3\n",
      "18 is divisible by 3\n",
      "19 is not divisible by 3\n",
      "20 is not divisible by 3\n",
      "21 is divisible by 3\n",
      "22 is not divisible by 3\n",
      "23 is not divisible by 3\n",
      "24 is divisible by 3\n",
      "25 is not divisible by 3\n"
     ]
    }
   ],
   "source": [
    "#Q6.\n",
    "list_2 = list(range(1,26))\n",
    "for item in list_2:\n",
    "    if item%3 == 0:\n",
    "        print(item, 'is divisible by 3')\n",
    "    else:\n",
    "        print(item, 'is not divisible by 3')"
   ]
  },
  {
   "cell_type": "code",
   "execution_count": 51,
   "id": "5578765a",
   "metadata": {},
   "outputs": [
    {
     "data": {
      "text/plain": [
       "[1, 2, 3, 4, 5, 'new data']"
      ]
     },
     "execution_count": 51,
     "metadata": {},
     "output_type": "execute_result"
    }
   ],
   "source": [
    "#Q7.\n",
    "#Mutable objects are objects that may be modified within the variable without having to create a new variable with \n",
    "#the new data. List is a type of mutable data type, allows for indexation, slicing, remove, append of its data \n",
    "list_3 = [1,2,3,4,5]\n",
    "list_3.append('new data')\n",
    "list_3"
   ]
  },
  {
   "cell_type": "code",
   "execution_count": 52,
   "id": "f7f63a99",
   "metadata": {},
   "outputs": [
    {
     "data": {
      "text/plain": [
       "(1, 2, 3, 4, 'new data')"
      ]
     },
     "execution_count": 52,
     "metadata": {},
     "output_type": "execute_result"
    }
   ],
   "source": [
    "#Q7.\n",
    "#Immutable obecjts are objects that cannot be modified without having to assign the new values to the variable, append,\n",
    "#remove dont work, strings and tuples are immutable data types\n",
    "tup_1 = (1,2,3,4)\n",
    "tup_1 = (1,2,3,4,'new data')\n",
    "#I had to assign a new value to the vriable tup_1 to add the 'new data'.\n",
    "tup_1"
   ]
  }
 ],
 "metadata": {
  "kernelspec": {
   "display_name": "Python 3 (ipykernel)",
   "language": "python",
   "name": "python3"
  },
  "language_info": {
   "codemirror_mode": {
    "name": "ipython",
    "version": 3
   },
   "file_extension": ".py",
   "mimetype": "text/x-python",
   "name": "python",
   "nbconvert_exporter": "python",
   "pygments_lexer": "ipython3",
   "version": "3.9.13"
  }
 },
 "nbformat": 4,
 "nbformat_minor": 5
}
